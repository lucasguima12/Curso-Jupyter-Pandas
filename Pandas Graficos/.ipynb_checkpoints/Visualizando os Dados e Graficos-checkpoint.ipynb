{
 "cells": [
  {
   "cell_type": "code",
   "execution_count": null,
   "id": "b093e3e3",
   "metadata": {},
   "outputs": [],
   "source": [
    "import pandas as pd"
   ]
  },
  {
   "cell_type": "code",
   "execution_count": null,
   "id": "900239a2",
   "metadata": {},
   "outputs": [],
   "source": [
    "notas = pd.read_csv('dados/ratings.csv')"
   ]
  },
  {
   "cell_type": "code",
   "execution_count": null,
   "id": "79ad6a2e",
   "metadata": {
    "scrolled": true
   },
   "outputs": [],
   "source": [
    "notas"
   ]
  },
  {
   "cell_type": "code",
   "execution_count": null,
   "id": "30a3de6c",
   "metadata": {},
   "outputs": [],
   "source": [
    "notas.columns = ['usuarioId', 'filmesId', 'nota', 'momento']"
   ]
  },
  {
   "cell_type": "code",
   "execution_count": null,
   "id": "0427a5d2",
   "metadata": {},
   "outputs": [],
   "source": [
    "notas"
   ]
  },
  {
   "cell_type": "code",
   "execution_count": null,
   "id": "c76ddf16",
   "metadata": {},
   "outputs": [],
   "source": [
    "notas['nota'].plot(kind = 'hist')"
   ]
  },
  {
   "cell_type": "code",
   "execution_count": null,
   "id": "f515427b",
   "metadata": {},
   "outputs": [],
   "source": [
    "notas.nota.describe()"
   ]
  },
  {
   "cell_type": "code",
   "execution_count": null,
   "id": "4cee3c8f",
   "metadata": {},
   "outputs": [],
   "source": [
    "import seaborn as sns\n",
    "\n",
    "sns.boxplot(notas['nota'])"
   ]
  },
  {
   "cell_type": "code",
   "execution_count": null,
   "id": "d344ea80",
   "metadata": {},
   "outputs": [],
   "source": [
    "filmes = pd.read_csv('dados/movies.csv')\n",
    "filmes.columns = ['filmesId', 'titulo', 'generos']"
   ]
  },
  {
   "cell_type": "code",
   "execution_count": null,
   "id": "d04472ea",
   "metadata": {},
   "outputs": [],
   "source": [
    "filmes"
   ]
  },
  {
   "cell_type": "code",
   "execution_count": null,
   "id": "76d12b5e",
   "metadata": {},
   "outputs": [],
   "source": [
    "notas.head()"
   ]
  },
  {
   "cell_type": "code",
   "execution_count": null,
   "id": "5752c8ce",
   "metadata": {},
   "outputs": [],
   "source": [
    "notas.query('filmesId== 1').nota.mean()        ##query é como se fosse uma pergunta"
   ]
  },
  {
   "cell_type": "code",
   "execution_count": null,
   "id": "cb76942b",
   "metadata": {},
   "outputs": [],
   "source": [
    "notas.query('filmesId== 2').nota.mean() "
   ]
  },
  {
   "cell_type": "code",
   "execution_count": null,
   "id": "e87225ad",
   "metadata": {},
   "outputs": [],
   "source": [
    "filmes_id = notas.groupby(\"filmesId\").mean()"
   ]
  },
  {
   "cell_type": "code",
   "execution_count": null,
   "id": "8f5a6362",
   "metadata": {},
   "outputs": [],
   "source": [
    "medias_por_filme = filmes_id['nota']"
   ]
  },
  {
   "cell_type": "code",
   "execution_count": null,
   "id": "1e806eef",
   "metadata": {},
   "outputs": [],
   "source": [
    "medias_por_filme.plot(kind = 'hist')"
   ]
  },
  {
   "cell_type": "code",
   "execution_count": null,
   "id": "824f4b83",
   "metadata": {},
   "outputs": [],
   "source": [
    "sns.boxplot(medias_por_filme)"
   ]
  },
  {
   "cell_type": "code",
   "execution_count": null,
   "id": "313b1418",
   "metadata": {},
   "outputs": [],
   "source": [
    "sns.displot(medias_por_filme)"
   ]
  },
  {
   "cell_type": "code",
   "execution_count": null,
   "id": "7c4a12af",
   "metadata": {},
   "outputs": [],
   "source": [
    "medias_por_filme.describe()"
   ]
  },
  {
   "cell_type": "markdown",
   "id": "e73b6d6e",
   "metadata": {},
   "source": [
    "# EXTRA"
   ]
  },
  {
   "cell_type": "code",
   "execution_count": null,
   "id": "fc7ffc7e",
   "metadata": {},
   "outputs": [],
   "source": [
    "notas"
   ]
  },
  {
   "cell_type": "markdown",
   "id": "e1149969",
   "metadata": {},
   "source": [
    "## Juntando as notas com o dataframe de filmes"
   ]
  },
  {
   "cell_type": "code",
   "execution_count": null,
   "id": "17573783",
   "metadata": {},
   "outputs": [],
   "source": [
    "filmes"
   ]
  },
  {
   "cell_type": "code",
   "execution_count": null,
   "id": "cdd1400e",
   "metadata": {},
   "outputs": [],
   "source": [
    "novo = pd.merge(filmes, notas, on = 'filmesId')"
   ]
  },
  {
   "cell_type": "code",
   "execution_count": null,
   "id": "e2b97bc2",
   "metadata": {},
   "outputs": [],
   "source": [
    "novo = novo[['usuarioId', 'filmesId', 'titulo', 'generos', 'momento', 'nota']]"
   ]
  },
  {
   "cell_type": "code",
   "execution_count": null,
   "id": "64b06aed",
   "metadata": {},
   "outputs": [],
   "source": [
    "novo"
   ]
  },
  {
   "cell_type": "code",
   "execution_count": null,
   "id": "e6eb784d",
   "metadata": {},
   "outputs": [],
   "source": [
    "notas_filme1 = novo.loc[novo['filmesId'] == 1]        ##notas do filme id 1"
   ]
  },
  {
   "cell_type": "code",
   "execution_count": null,
   "id": "6ed797ae",
   "metadata": {
    "scrolled": false
   },
   "outputs": [],
   "source": [
    "notas_filme1"
   ]
  },
  {
   "cell_type": "code",
   "execution_count": null,
   "id": "d00e160e",
   "metadata": {},
   "outputs": [],
   "source": [
    "notas_usuario1 = novo.loc[novo['usuarioId'] == 1]   ## notas do usuario 1\n",
    "notas_usuario1"
   ]
  },
  {
   "cell_type": "code",
   "execution_count": null,
   "id": "5ba5e1b2",
   "metadata": {
    "scrolled": false
   },
   "outputs": [],
   "source": [
    "notas_usuario1.index = range(notas_usuario1.shape[0])   ## notas usuairo 1 com index arrumado\n",
    "notas_usuario1\n"
   ]
  },
  {
   "cell_type": "code",
   "execution_count": null,
   "id": "6f84d79c",
   "metadata": {},
   "outputs": [],
   "source": []
  }
 ],
 "metadata": {
  "kernelspec": {
   "display_name": "Python 3 (ipykernel)",
   "language": "python",
   "name": "python3"
  },
  "language_info": {
   "codemirror_mode": {
    "name": "ipython",
    "version": 3
   },
   "file_extension": ".py",
   "mimetype": "text/x-python",
   "name": "python",
   "nbconvert_exporter": "python",
   "pygments_lexer": "ipython3",
   "version": "3.9.13"
  }
 },
 "nbformat": 4,
 "nbformat_minor": 5
}
